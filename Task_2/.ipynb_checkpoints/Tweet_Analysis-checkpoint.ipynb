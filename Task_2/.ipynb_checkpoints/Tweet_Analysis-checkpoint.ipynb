{
 "cells": [
  {
   "cell_type": "code",
   "execution_count": null,
   "metadata": {},
   "outputs": [],
   "source": [
    "### >> Twitter Analysis << ##"
   ]
  },
  {
   "cell_type": "code",
   "execution_count": null,
   "metadata": {},
   "outputs": [],
   "source": [
    "# Importing Modules\n",
    "import re\n",
    "import json\n",
    "import wordcloud\n",
    "import numpy as np\n",
    "import pandas as pd\n",
    "import seaborn as sb\n",
    "import textblob as tb\n",
    "import matplotlib.pyplot as plt\n",
    "%matplotlib inline"
   ]
  },
  {
   "cell_type": "code",
   "execution_count": null,
   "metadata": {},
   "outputs": [],
   "source": [
    "# Plotting Top 10 HashTags\n",
    "\n",
    "df = pd.read_json('Dump/Top_HashTags.json')\n",
    "sb.set_theme(context = \"poster\", style='darkgrid')\n",
    "\n",
    "plt.figure(figsize=(50,10))\n",
    "g = sb.barplot(data=df,x=\"Hashtag\",y=\"Tweet_Volume\")\n",
    "\n",
    "plt.title(\"Top 10 HashTags\")\n",
    "plt.savefig('Images/Top_HashTags.png')"
   ]
  },
  {
   "cell_type": "code",
   "execution_count": null,
   "metadata": {},
   "outputs": [],
   "source": [
    "### EDA on Tweets ### "
   ]
  },
  {
   "cell_type": "code",
   "execution_count": null,
   "metadata": {},
   "outputs": [],
   "source": [
    "# Creating Tweets Dataframe\n",
    "Tweets = pd.read_json('Dump/Tweets.json')\n",
    "Tweets.head()"
   ]
  },
  {
   "cell_type": "code",
   "execution_count": null,
   "metadata": {},
   "outputs": [],
   "source": [
    "# Wordcloud of Tweets\n",
    "\n",
    "df = Tweets\n",
    "stop = set(wordcloud.STOPWORDS)\n",
    "text = \"\"\n",
    "\n",
    "TextList = list(df[df.lang.str.contains('en')]['text'])\n",
    "\n",
    "for x in TextList:\n",
    "    s = str(x)\n",
    "    s.lower()\n",
    "    s = ' '.join(re.sub(\"(@[A-Za-z0-9]+)|([^0-9A-Za-z \\t])|(\\w+:\\/\\/\\S+)\", \" \", s).split())\n",
    "    text+=s+\" \"\n",
    "        \n",
    "cloud = wordcloud.WordCloud(width = 1920, height = 900,  background_color ='black', stopwords = stop, min_font_size = 10).generate(text)\n",
    "plt.figure(figsize=(20,10))\n",
    "plt.axis('off')\n",
    "plt.imshow(cloud)\n",
    "plt.savefig('Images/WordCloud_Tweets.png')"
   ]
  },
  {
   "cell_type": "code",
   "execution_count": null,
   "metadata": {},
   "outputs": [],
   "source": [
    "# Platforms used to Tweet\n",
    "\n",
    "df = Tweets\n",
    "labels = [\"Android\",\"Desktop\",\"iPhone\",\"Other\"]\n",
    "sizes = []\n",
    "sizes.append(len(df[df['source'].str.contains('Twitter for Android')]))\n",
    "sizes.append(len(df[df['source'].str.contains('Twitter Web App')]))\n",
    "sizes.append(len(df[df['source'].str.contains('Twitter for iPhone')]))\n",
    "sizes.append(len(df)-sum(sizes))\n",
    "explode = (0.01,0.01,0.01,0.01)\n",
    "colors = ['#ff9999','#66b3ff','#99ff99','#ffcc99']\n",
    "\n",
    "sb.set_theme(context = \"poster\", style='darkgrid')\n",
    "plt.figure(figsize=(10,10))\n",
    "plt.pie(sizes, colors = colors, labels=labels, autopct='%1.0f%%', pctdistance=0.85, explode = explode,textprops={'fontsize': 20})\n",
    "fig = plt.gcf()\n",
    "fig.gca().add_artist(plt.Circle((0,0),0.70,fc='white'))\n",
    "fig.gca().annotate(\"Platforms\", xy=(0, 0), fontsize=30,ha=\"center\")\n",
    "plt.tight_layout()\n",
    "plt.savefig('Images/Platforms.png')"
   ]
  },
  {
   "cell_type": "code",
   "execution_count": null,
   "metadata": {},
   "outputs": [],
   "source": [
    "# Languages used in Tweets\n",
    "\n",
    "df = Tweets\n",
    "df = df.lang.value_counts().to_frame().reset_index() \n",
    "\n",
    "df.columns = ['Language','Tweets']\n",
    "df = df.sort_values(['Tweets'],ascending=False)\n",
    "df = df.append({'Language':'other', 'Tweets': df[3:]['Tweets'].sum()},ignore_index=True)\n",
    "df = df.sort_values(['Tweets'],ascending=False)\n",
    "df = df[:4]\n",
    "\n",
    "groupedvalues=df.groupby('Language').sum().reset_index()\n",
    "\n",
    "sb.set_theme(context = \"poster\", style='darkgrid')\n",
    "plt.figure(figsize=(20,10))\n",
    "g = sb.barplot(data=df,x=\"Language\",y=\"Tweets\")\n",
    "\n",
    "Y = list(df['Tweets'])\n",
    "for i in range(len(Y)):\n",
    "    g.text(i,Y[i],str(Y[i]))\n",
    "\n",
    "plt.title(\"Langauges Used In Tweets\")\n",
    "plt.savefig('Images/Language.png')\n"
   ]
  },
  {
   "cell_type": "code",
   "execution_count": null,
   "metadata": {},
   "outputs": [],
   "source": [
    "# Tweets Vs. Hour of Day\n",
    "\n",
    "df = Tweets\n",
    "\n",
    "Activity = {i:0 for i in range(24)}\n",
    "\n",
    "for i in df['created_at']:\n",
    "    Activity[int(str(i)[11:13])]+=1\n",
    "\n",
    "sb.set_theme(context = \"poster\", style='darkgrid')\n",
    "plt.figure(figsize=(20,10))\n",
    "x = [str(i) for i in Activity]\n",
    "y = [Activity[i] for i in Activity]\n",
    "plt.bar(x,y,color='skyblue')\n",
    "for i in range(len(y)):\n",
    "    plt.text(i-0.25,y[i],str(y[i]),fontsize=12)\n",
    "plt.xlabel(\"Hour of Day\",fontsize =30) \n",
    "plt.ylabel(\"No. of Tweets\",fontsize = 30) \n",
    "plt.title(\"Tweets Vs. Hour of Day\")\n",
    "plt.savefig('Images/Tweeting_Hours.png')"
   ]
  },
  {
   "cell_type": "code",
   "execution_count": null,
   "metadata": {},
   "outputs": [],
   "source": [
    "# Sentiment Analysis\n",
    "\n",
    "df = Tweets\n",
    "Tweet_Texts = df[df.lang.str.contains('en')]['text'] \n",
    "\n",
    "Positive = 0\n",
    "Negative = 0\n",
    "Neutral = 0\n",
    "\n",
    "for T in Tweet_Texts:\n",
    "    Cleaned_Text = ' '.join(re.sub(\"(@[A-Za-z0-9]+)|([^0-9A-Za-z \\t])|(\\w+:\\/\\/\\S+)\", \" \", T).split())\n",
    "    Result = tb.TextBlob(Cleaned_Text).sentiment.polarity\n",
    "    if Result > 0: Positive+=1\n",
    "    elif Result < 0: Negative+=1\n",
    "    else: Neutral+=1\n",
    "\n",
    "labels = [\"Positive\",\"Negative\",\"Neutral\"]\n",
    "sizes = [Positive,Negative,Neutral]\n",
    "\n",
    "explode = (0.01,0.01,0.01)\n",
    "colors = ['#99ff99','#ff9999','#66b3ff']\n",
    "\n",
    "sb.set_theme(context = \"poster\", style='darkgrid')\n",
    "plt.figure(figsize=(10,10))\n",
    "plt.pie(sizes, colors = colors, labels=labels, autopct='%1.0f%%', pctdistance=0.85, explode = explode,textprops={'fontsize': 20})\n",
    "fig = plt.gcf()\n",
    "fig.gca().add_artist(plt.Circle((0,0),0.70,fc='white')) \n",
    "fig.gca().annotate(\"Sentiment \\n Analysis\", xy=(0, 0), fontsize=30,ha=\"center\")\n",
    "plt.tight_layout()\n",
    "plt.savefig('Images/Sentiments.png')"
   ]
  },
  {
   "cell_type": "code",
   "execution_count": null,
   "metadata": {},
   "outputs": [],
   "source": [
    "### EDA on Users ### "
   ]
  },
  {
   "cell_type": "code",
   "execution_count": null,
   "metadata": {},
   "outputs": [],
   "source": [
    "# Creating Users Dataframe\n",
    "Users = pd.read_json('Dump/Users.json')\n",
    "Users.head()"
   ]
  },
  {
   "cell_type": "code",
   "execution_count": null,
   "metadata": {},
   "outputs": [],
   "source": [
    "# Percentage of Verified Accounts\n",
    "\n",
    "df = Users\n",
    "\n",
    "Yes = len(df[df.verified==True])\n",
    "No = len(df[df.verified==False])\n",
    "\n",
    "sb.set_theme(context = \"poster\", style='darkgrid')\n",
    "plt.figure(figsize=(20,10))\n",
    "x = [Yes,No]\n",
    "plt.pie(x,labels=[\"Verified\",\"Unverified\"],explode=(0,0),colors=['#99ff99','#ff9999'], autopct='%1.0f%%', startangle=0,   pctdistance=0.75,labeldistance=1.1)\n",
    "plt.savefig('Images/Verified.png')\n"
   ]
  },
  {
   "cell_type": "code",
   "execution_count": null,
   "metadata": {},
   "outputs": [],
   "source": [
    "# Followers Distribution\n",
    "\n",
    "df = Users\n",
    "Followers = list(df['followers_count'])\n",
    "\n",
    "D = {'0-250':0,'251-1000':0,'1001-2500':0,'2501-10000':0,'>10000':0}\n",
    "\n",
    "for i in Followers:\n",
    "    if i<=250:D['0-250']+=1\n",
    "    elif i<=1000:D['251-1000']+=1\n",
    "    elif i<=2500:D['1001-2500']+=1\n",
    "    elif i<=10000:D['2501-10000']+=1\n",
    "    else:D['>10000']+=1\n",
    "\n",
    "sb.set_theme(context = \"poster\", style='darkgrid')\n",
    "plt.figure(figsize=(20,10))\n",
    "x = [i for i in D]\n",
    "y = [D[i] for i in D]\n",
    "plt.bar(x,y,color='springgreen')\n",
    "for i in range(len(y)):\n",
    "    plt.text(i-0.1,y[i],str(y[i]),fontsize=20)\n",
    "plt.xlabel(\"No. of Followers\",fontsize =30) \n",
    "plt.ylabel(\"No. of Accounts\",fontsize = 30) \n",
    "plt.title(\"Followers Distribution\")\n",
    "plt.savefig('Images/Followers.png')"
   ]
  },
  {
   "cell_type": "code",
   "execution_count": null,
   "metadata": {},
   "outputs": [],
   "source": [
    "# Friends Distribution\n",
    "\n",
    "df = Users\n",
    "Friends = list(df['friends_count'])\n",
    "\n",
    "D = {'0-250':0,'251-1000':0,'1001-2500':0,'2501-10000':0,'>10000':0}\n",
    "\n",
    "for i in Friends:\n",
    "    if i<=250:D['0-250']+=1\n",
    "    elif i<=1000:D['251-1000']+=1\n",
    "    elif i<=2500:D['1001-2500']+=1\n",
    "    elif i<=10000:D['2501-10000']+=1\n",
    "    else:D['>10000']+=1\n",
    "\n",
    "sb.set_theme(context = \"poster\", style='darkgrid')\n",
    "plt.figure(figsize=(20,10))\n",
    "x = [i for i in D]\n",
    "y = [D[i] for i in D]\n",
    "plt.bar(x,y,color='darkorange')\n",
    "for i in range(len(y)):\n",
    "    plt.text(i-0.1,y[i],str(y[i]),fontsize=20)\n",
    "plt.xlabel(\"No. of Friends\",fontsize =30) \n",
    "plt.ylabel(\"No. of Accounts\",fontsize = 30) \n",
    "plt.title(\"Friends Distribution\")\n",
    "plt.savefig('Images/Friends.png')"
   ]
  },
  {
   "cell_type": "code",
   "execution_count": null,
   "metadata": {},
   "outputs": [],
   "source": [
    "### END OF NOTEBOOK ###"
   ]
  }
 ],
 "metadata": {
  "kernelspec": {
   "display_name": "Python 3",
   "language": "python",
   "name": "python3"
  },
  "language_info": {
   "codemirror_mode": {
    "name": "ipython",
    "version": 3
   },
   "file_extension": ".py",
   "mimetype": "text/x-python",
   "name": "python",
   "nbconvert_exporter": "python",
   "pygments_lexer": "ipython3",
   "version": "3.9.0"
  }
 },
 "nbformat": 4,
 "nbformat_minor": 4
}
