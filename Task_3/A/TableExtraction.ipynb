{
 "cells": [
  {
   "cell_type": "code",
   "execution_count": 1,
   "metadata": {},
   "outputs": [],
   "source": [
    "### >> Table Extraction << ###"
   ]
  },
  {
   "cell_type": "code",
   "execution_count": 2,
   "metadata": {},
   "outputs": [],
   "source": [
    "# Importing Modules\n",
    "import os\n",
    "import tabula\n",
    "import camelot\n",
    "import pymongo\n",
    "import pandas as pd"
   ]
  },
  {
   "cell_type": "code",
   "execution_count": 3,
   "metadata": {},
   "outputs": [],
   "source": [
    "# Connecting to MongoDB\n",
    "client = pymongo.MongoClient('localhost', 27017)\n",
    "db = client.PDF_Extraction"
   ]
  },
  {
   "cell_type": "code",
   "execution_count": 4,
   "metadata": {},
   "outputs": [],
   "source": [
    "# a6b29367-f3b7-4fb1-a2d0-077477eac1d9.pdf #"
   ]
  },
  {
   "cell_type": "code",
   "execution_count": 5,
   "metadata": {},
   "outputs": [],
   "source": [
    "# Extracting\n",
    "\n",
    "File = 'Files/a6b29367-f3b7-4fb1-a2d0-077477eac1d9.pdf'\n",
    "x = tabula.read_pdf(File,pages=\"all\",multiple_tables=True,guess=True)"
   ]
  },
  {
   "cell_type": "code",
   "execution_count": 6,
   "metadata": {},
   "outputs": [],
   "source": [
    "# Cleaning\n",
    "\n",
    "x[0].iloc[0,0]+=\" \"+x[0].iloc[1,0]\n",
    "x[0].dropna(inplace=True)"
   ]
  },
  {
   "cell_type": "code",
   "execution_count": 7,
   "metadata": {},
   "outputs": [
    {
     "data": {
      "text/plain": [
       "<pymongo.results.InsertOneResult at 0x128100840>"
      ]
     },
     "execution_count": 7,
     "metadata": {},
     "output_type": "execute_result"
    }
   ],
   "source": [
    "# Storing\n",
    "\n",
    "collection_name = File[6:] + \"_Tables\"\n",
    "col = db[collection_name]\n",
    "col.insert_one(x[0].to_dict('records')[0])"
   ]
  },
  {
   "cell_type": "code",
   "execution_count": 8,
   "metadata": {},
   "outputs": [],
   "source": [
    "# 1c1edeee-a13e-4b2e-90be-eb1dd03c3384.pdf #"
   ]
  },
  {
   "cell_type": "code",
   "execution_count": 9,
   "metadata": {},
   "outputs": [],
   "source": [
    "# Extracting\n",
    "\n",
    "File = 'Files/1c1edeee-a13e-4b2e-90be-eb1dd03c3384.pdf'\n",
    "\n",
    "x = tabula.read_pdf(File,pages=\"all\",multiple_tables=True,guess=True)\n",
    "y = camelot.read_pdf(File,strip_text='\\n')"
   ]
  },
  {
   "cell_type": "code",
   "execution_count": 10,
   "metadata": {},
   "outputs": [],
   "source": [
    "# Cleaning\n",
    "\n",
    "z = y[0].df[:1]\n",
    "z.columns = ['0','1']\n",
    "t = [x[0],z]"
   ]
  },
  {
   "cell_type": "code",
   "execution_count": 11,
   "metadata": {},
   "outputs": [
    {
     "data": {
      "text/plain": [
       "<pymongo.results.InsertOneResult at 0x1285b92c0>"
      ]
     },
     "execution_count": 11,
     "metadata": {},
     "output_type": "execute_result"
    }
   ],
   "source": [
    "# Storing\n",
    "\n",
    "collection_name = File[6:] + \"_Tables\"\n",
    "col = db[collection_name]\n",
    "col.insert_one(t[1].to_dict('records')[0])"
   ]
  },
  {
   "cell_type": "code",
   "execution_count": 12,
   "metadata": {},
   "outputs": [],
   "source": [
    "# d9f8e6d9-660b-4505-86f9-952e45ca6da0.pdf"
   ]
  },
  {
   "cell_type": "code",
   "execution_count": 13,
   "metadata": {},
   "outputs": [
    {
     "name": "stderr",
     "output_type": "stream",
     "text": [
      "PdfReadWarning: Invalid stream (index 16) within object 41 0: Stream has ended unexpectedly [pdf.py:1572]\n"
     ]
    }
   ],
   "source": [
    "# Extracting\n",
    "\n",
    "File = 'Files/d9f8e6d9-660b-4505-86f9-952e45ca6da0.pdf'\n",
    "\n",
    "\n",
    "y = camelot.read_pdf(File,strip_text='\\n')"
   ]
  },
  {
   "cell_type": "code",
   "execution_count": 14,
   "metadata": {},
   "outputs": [],
   "source": [
    "# Cleaning\n",
    "\n",
    "z = y[0].df\n",
    "z.columns = ['0','1','2','3']\n",
    "z.iloc[1,1]=z.iloc[1,0][15:]+\" \"+z.iloc[1,1]\n",
    "z.iloc[1,0]=z.iloc[1,0][:15]\n",
    "z.iloc[2,0]=z.iloc[1,0]\n",
    "z.iloc[3,0]=z.iloc[3,1][:15]\n",
    "z.iloc[3,1]=z.iloc[3,1][15:]\n",
    "z.iloc[3,3]=\"M\"+z.iloc[3,3]\n",
    "z.iloc[2,3]=\"-\""
   ]
  },
  {
   "cell_type": "code",
   "execution_count": 15,
   "metadata": {},
   "outputs": [
    {
     "data": {
      "text/plain": [
       "<pymongo.results.InsertOneResult at 0x128100980>"
      ]
     },
     "execution_count": 15,
     "metadata": {},
     "output_type": "execute_result"
    }
   ],
   "source": [
    "# Storing\n",
    "\n",
    "collection_name = File[6:] + \"_Tables\"\n",
    "col = db[collection_name]\n",
    "col.insert_one(z.to_dict('records')[0])"
   ]
  },
  {
   "cell_type": "code",
   "execution_count": 16,
   "metadata": {},
   "outputs": [],
   "source": [
    "# EICHERMOT.pdf #"
   ]
  },
  {
   "cell_type": "code",
   "execution_count": 17,
   "metadata": {},
   "outputs": [],
   "source": [
    "# Extracting\n",
    "\n",
    "File = 'Files/EICHERMOT.pdf'\n",
    "x = tabula.read_pdf(File,pages=\"all\",multiple_tables=True,guess=True)\n",
    "y = camelot.read_pdf(File,strip_text='\\n')"
   ]
  },
  {
   "cell_type": "code",
   "execution_count": 18,
   "metadata": {},
   "outputs": [],
   "source": [
    "# Cleaning\n"
   ]
  },
  {
   "cell_type": "code",
   "execution_count": 19,
   "metadata": {},
   "outputs": [
    {
     "data": {
      "text/plain": [
       "<pymongo.results.InsertOneResult at 0x1285fd400>"
      ]
     },
     "execution_count": 19,
     "metadata": {},
     "output_type": "execute_result"
    }
   ],
   "source": [
    "# Storing\n",
    "\n",
    "collection_name = File[6:] + \"_Tables\"\n",
    "col = db[collection_name]\n",
    "col.insert_one(x[0].to_dict('records')[0])"
   ]
  },
  {
   "cell_type": "code",
   "execution_count": 20,
   "metadata": {},
   "outputs": [],
   "source": [
    "### END OF NOTEBOOK ###"
   ]
  }
 ],
 "metadata": {
  "kernelspec": {
   "display_name": "Python 3",
   "language": "python",
   "name": "python3"
  },
  "language_info": {
   "codemirror_mode": {
    "name": "ipython",
    "version": 3
   },
   "file_extension": ".py",
   "mimetype": "text/x-python",
   "name": "python",
   "nbconvert_exporter": "python",
   "pygments_lexer": "ipython3",
   "version": "3.9.0"
  }
 },
 "nbformat": 4,
 "nbformat_minor": 4
}
